{
 "cells": [
  {
   "cell_type": "code",
   "execution_count": 14,
   "metadata": {},
   "outputs": [],
   "source": [
    "import pandas as pd\n",
    "import numpy as np\n",
    "import matplotlib.pyplot as plt"
   ]
  },
  {
   "cell_type": "code",
   "execution_count": 20,
   "metadata": {},
   "outputs": [
    {
     "data": {
      "text/html": [
       "<div>\n",
       "<style scoped>\n",
       "    .dataframe tbody tr th:only-of-type {\n",
       "        vertical-align: middle;\n",
       "    }\n",
       "\n",
       "    .dataframe tbody tr th {\n",
       "        vertical-align: top;\n",
       "    }\n",
       "\n",
       "    .dataframe thead th {\n",
       "        text-align: right;\n",
       "    }\n",
       "</style>\n",
       "<table border=\"1\" class=\"dataframe\">\n",
       "  <thead>\n",
       "    <tr style=\"text-align: right;\">\n",
       "      <th></th>\n",
       "      <th>Проводимость</th>\n",
       "      <th>h</th>\n",
       "      <th>1</th>\n",
       "      <th>2</th>\n",
       "      <th>3</th>\n",
       "      <th>ПАВ</th>\n",
       "      <th>вода</th>\n",
       "      <th>C</th>\n",
       "      <th>lgC</th>\n",
       "      <th>sigma</th>\n",
       "    </tr>\n",
       "  </thead>\n",
       "  <tbody>\n",
       "    <tr>\n",
       "      <th>1</th>\n",
       "      <td>28.1</td>\n",
       "      <td>22.333333</td>\n",
       "      <td>22.4</td>\n",
       "      <td>22.3</td>\n",
       "      <td>22.3</td>\n",
       "      <td>0.5</td>\n",
       "      <td>19.5</td>\n",
       "      <td>0.0004</td>\n",
       "      <td>-3.37</td>\n",
       "      <td>71.466667</td>\n",
       "    </tr>\n",
       "    <tr>\n",
       "      <th>2</th>\n",
       "      <td>63.9</td>\n",
       "      <td>20.833333</td>\n",
       "      <td>20.9</td>\n",
       "      <td>20.8</td>\n",
       "      <td>20.8</td>\n",
       "      <td>1.0</td>\n",
       "      <td>19.0</td>\n",
       "      <td>0.0009</td>\n",
       "      <td>-3.06</td>\n",
       "      <td>66.666667</td>\n",
       "    </tr>\n",
       "    <tr>\n",
       "      <th>3</th>\n",
       "      <td>125.5</td>\n",
       "      <td>17.333333</td>\n",
       "      <td>17.3</td>\n",
       "      <td>17.3</td>\n",
       "      <td>17.4</td>\n",
       "      <td>2.0</td>\n",
       "      <td>18.0</td>\n",
       "      <td>0.0018</td>\n",
       "      <td>-2.73</td>\n",
       "      <td>55.466667</td>\n",
       "    </tr>\n",
       "    <tr>\n",
       "      <th>4</th>\n",
       "      <td>195.1</td>\n",
       "      <td>13.433333</td>\n",
       "      <td>13.2</td>\n",
       "      <td>13.5</td>\n",
       "      <td>13.6</td>\n",
       "      <td>3.0</td>\n",
       "      <td>17.0</td>\n",
       "      <td>0.0029</td>\n",
       "      <td>-2.53</td>\n",
       "      <td>42.986667</td>\n",
       "    </tr>\n",
       "    <tr>\n",
       "      <th>5</th>\n",
       "      <td>238.0</td>\n",
       "      <td>11.733333</td>\n",
       "      <td>11.6</td>\n",
       "      <td>11.6</td>\n",
       "      <td>12.0</td>\n",
       "      <td>4.0</td>\n",
       "      <td>16.0</td>\n",
       "      <td>0.0042</td>\n",
       "      <td>-2.38</td>\n",
       "      <td>37.546667</td>\n",
       "    </tr>\n",
       "    <tr>\n",
       "      <th>6</th>\n",
       "      <td>200.0</td>\n",
       "      <td>11.566667</td>\n",
       "      <td>11.3</td>\n",
       "      <td>11.4</td>\n",
       "      <td>12.0</td>\n",
       "      <td>5.0</td>\n",
       "      <td>15.0</td>\n",
       "      <td>0.0055</td>\n",
       "      <td>-2.26</td>\n",
       "      <td>37.013333</td>\n",
       "    </tr>\n",
       "    <tr>\n",
       "      <th>7</th>\n",
       "      <td>345.0</td>\n",
       "      <td>11.233333</td>\n",
       "      <td>10.9</td>\n",
       "      <td>11.3</td>\n",
       "      <td>11.5</td>\n",
       "      <td>6.0</td>\n",
       "      <td>14.0</td>\n",
       "      <td>0.0071</td>\n",
       "      <td>-2.15</td>\n",
       "      <td>35.946667</td>\n",
       "    </tr>\n",
       "    <tr>\n",
       "      <th>8</th>\n",
       "      <td>392.0</td>\n",
       "      <td>11.700000</td>\n",
       "      <td>11.7</td>\n",
       "      <td>11.7</td>\n",
       "      <td>11.7</td>\n",
       "      <td>7.0</td>\n",
       "      <td>13.0</td>\n",
       "      <td>0.0089</td>\n",
       "      <td>-2.05</td>\n",
       "      <td>37.440000</td>\n",
       "    </tr>\n",
       "    <tr>\n",
       "      <th>9</th>\n",
       "      <td>514.0</td>\n",
       "      <td>11.400000</td>\n",
       "      <td>11.4</td>\n",
       "      <td>11.4</td>\n",
       "      <td>11.4</td>\n",
       "      <td>9.0</td>\n",
       "      <td>11.0</td>\n",
       "      <td>0.0136</td>\n",
       "      <td>-1.87</td>\n",
       "      <td>36.480000</td>\n",
       "    </tr>\n",
       "    <tr>\n",
       "      <th>10</th>\n",
       "      <td>557.0</td>\n",
       "      <td>11.300000</td>\n",
       "      <td>11.3</td>\n",
       "      <td>11.3</td>\n",
       "      <td>11.3</td>\n",
       "      <td>10.0</td>\n",
       "      <td>10.0</td>\n",
       "      <td>0.0166</td>\n",
       "      <td>-1.78</td>\n",
       "      <td>36.160000</td>\n",
       "    </tr>\n",
       "    <tr>\n",
       "      <th>11</th>\n",
       "      <td>594.0</td>\n",
       "      <td>11.166667</td>\n",
       "      <td>11.2</td>\n",
       "      <td>11.2</td>\n",
       "      <td>11.1</td>\n",
       "      <td>11.0</td>\n",
       "      <td>9.0</td>\n",
       "      <td>0.0203</td>\n",
       "      <td>-1.69</td>\n",
       "      <td>35.733333</td>\n",
       "    </tr>\n",
       "    <tr>\n",
       "      <th>12</th>\n",
       "      <td>625.0</td>\n",
       "      <td>11.333333</td>\n",
       "      <td>11.2</td>\n",
       "      <td>11.4</td>\n",
       "      <td>11.4</td>\n",
       "      <td>12.0</td>\n",
       "      <td>8.0</td>\n",
       "      <td>0.0249</td>\n",
       "      <td>-1.60</td>\n",
       "      <td>36.266667</td>\n",
       "    </tr>\n",
       "  </tbody>\n",
       "</table>\n",
       "</div>"
      ],
      "text/plain": [
       "    Проводимость          h     1     2     3   ПАВ  вода       C    lgC  \\\n",
       "1           28.1  22.333333  22.4  22.3  22.3   0.5  19.5  0.0004  -3.37   \n",
       "2           63.9  20.833333  20.9  20.8  20.8   1.0  19.0  0.0009  -3.06   \n",
       "3          125.5  17.333333  17.3  17.3  17.4   2.0  18.0  0.0018  -2.73   \n",
       "4          195.1  13.433333  13.2  13.5  13.6   3.0  17.0  0.0029  -2.53   \n",
       "5          238.0  11.733333  11.6  11.6  12.0   4.0  16.0  0.0042  -2.38   \n",
       "6          200.0  11.566667  11.3  11.4  12.0   5.0  15.0  0.0055  -2.26   \n",
       "7          345.0  11.233333  10.9  11.3  11.5   6.0  14.0  0.0071  -2.15   \n",
       "8          392.0  11.700000  11.7  11.7  11.7   7.0  13.0  0.0089  -2.05   \n",
       "9          514.0  11.400000  11.4  11.4  11.4   9.0  11.0  0.0136  -1.87   \n",
       "10         557.0  11.300000  11.3  11.3  11.3  10.0  10.0  0.0166  -1.78   \n",
       "11         594.0  11.166667  11.2  11.2  11.1  11.0   9.0  0.0203  -1.69   \n",
       "12         625.0  11.333333  11.2  11.4  11.4  12.0   8.0  0.0249  -1.60   \n",
       "\n",
       "        sigma  \n",
       "1   71.466667  \n",
       "2   66.666667  \n",
       "3   55.466667  \n",
       "4   42.986667  \n",
       "5   37.546667  \n",
       "6   37.013333  \n",
       "7   35.946667  \n",
       "8   37.440000  \n",
       "9   36.480000  \n",
       "10  36.160000  \n",
       "11  35.733333  \n",
       "12  36.266667  "
      ]
     },
     "execution_count": 20,
     "metadata": {},
     "output_type": "execute_result"
    }
   ],
   "source": [
    "df = pd.read_csv(\"task9.csv\", sep=\";\")\n",
    "df = df[df.index > 0]\n",
    "df"
   ]
  },
  {
   "cell_type": "code",
   "execution_count": 21,
   "metadata": {},
   "outputs": [
    {
     "data": {
      "text/plain": [
       "Text(0, 0.5, 'Проводимость (микро Сименс на см)')"
      ]
     },
     "execution_count": 21,
     "metadata": {},
     "output_type": "execute_result"
    },
    {
     "data": {
      "image/png": "[encoded data removed]",
      "text/plain": [
       "<Figure size 864x432 with 1 Axes>"
      ]
     },
     "metadata": {},
     "output_type": "display_data"
    }
   ],
   "source": [
    "plt.figure(figsize=(12, 6))\n",
    "plt.style.use(\"ggplot\")\n",
    "plt.plot(df[\"C\"], df[\"Проводимость\"])\n",
    "plt.scatter(df[\"C\"], df[\"Проводимость\"])\n",
    "plt.title(\"Зависимость проводимости от концентрации\")\n",
    "plt.xlabel(\"C\")\n",
    "plt.ylabel(\"Проводимость (микро Сименс на см)\")"
   ]
  },
  {
   "cell_type": "code",
   "execution_count": 22,
   "metadata": {},
   "outputs": [
    {
     "data": {
      "text/plain": [
       "Text(0, 0.5, 'Поверхностное натяжение')"
      ]
     },
     "execution_count": 22,
     "metadata": {},
     "output_type": "execute_result"
    },
    {
     "data": {
      "image/png": "[encoded data removed]",
      "text/plain": [
       "<Figure size 864x432 with 1 Axes>"
      ]
     },
     "metadata": {},
     "output_type": "display_data"
    }
   ],
   "source": [
    "plt.figure(figsize=(12, 6))\n",
    "plt.style.use(\"ggplot\")\n",
    "plt.plot(np.log(df[\"C\"]), df[\"sigma\"])\n",
    "plt.scatter(np.log(df[\"C\"]), df[\"sigma\"])\n",
    "plt.title(\"Зависимость поверхностного натяжения от логарифма концентрации\")\n",
    "plt.xlabel(\"Log C\")\n",
    "plt.ylabel(\"Поверхностное натяжение\")"
   ]
  },
  {
   "cell_type": "code",
   "execution_count": 23,
   "metadata": {},
   "outputs": [],
   "source": [
    "import scipy as sc\n",
    "from scipy.stats import linregress"
   ]
  },
  {
   "cell_type": "code",
   "execution_count": 32,
   "metadata": {},
   "outputs": [],
   "source": [
    "slope, intercept, r_value, p_value, std_err = linregress(np.log(df[df.index < 6][\"C\"]), df[df.index < 6][\"sigma\"])\n",
    "C = intercept\n",
    "b = -slope\n",
    "T = 298\n",
    "R = 8.314"
   ]
  },
  {
   "cell_type": "code",
   "execution_count": 33,
   "metadata": {},
   "outputs": [
    {
     "data": {
      "text/plain": [
       "(15.138056390131675, -43.488487250426694)"
      ]
     },
     "execution_count": 33,
     "metadata": {},
     "output_type": "execute_result"
    }
   ],
   "source": [
    "b, C"
   ]
  },
  {
   "cell_type": "code",
   "execution_count": 35,
   "metadata": {},
   "outputs": [
    {
     "data": {
      "text/plain": [
       "0.00305501845963138"
      ]
     },
     "execution_count": 35,
     "metadata": {},
     "output_type": "execute_result"
    }
   ],
   "source": [
    "Г = b / (2 * R * T)\n",
    "Г"
   ]
  },
  {
   "cell_type": "code",
   "execution_count": 42,
   "metadata": {},
   "outputs": [
    {
     "data": {
      "text/plain": [
       "-20599.31038137549"
      ]
     },
     "execution_count": 42,
     "metadata": {},
     "output_type": "execute_result"
    }
   ],
   "source": [
    "C = df[df.index == 9][\"C\"]\n",
    "dG = R*T*np.log(C / (C + 55.5)).values[0]\n",
    "dG"
   ]
  },
  {
   "cell_type": "code",
   "execution_count": 45,
   "metadata": {},
   "outputs": [
    {
     "data": {
      "text/plain": [
       "-35018.82764833833"
      ]
     },
     "execution_count": 45,
     "metadata": {},
     "output_type": "execute_result"
    }
   ],
   "source": [
    "dG = R*T*(1 + 0.7) * np.log(C / (C + 55.5)).values[0]\n",
    "dG"
   ]
  }
 ],
 "metadata": {
  "kernelspec": {
   "display_name": "Python 3",
   "language": "python",
   "name": "python3"
  },
  "language_info": {
   "codemirror_mode": {
    "name": "ipython",
    "version": 3
   },
   "file_extension": ".py",
   "mimetype": "text/x-python",
   "name": "python",
   "nbconvert_exporter": "python",
   "pygments_lexer": "ipython3",
   "version": "3.6.7"
  }
 },
 "nbformat": 4,
 "nbformat_minor": 2
}
