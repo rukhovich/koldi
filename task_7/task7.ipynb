{
 "cells": [
  {
   "cell_type": "code",
   "execution_count": 9,
   "metadata": {},
   "outputs": [],
   "source": [
    "import pandas as pd\n",
    "import numpy as np\n",
    "import matplotlib.pyplot as plt\n",
    "import scipy as sc\n",
    "from scipy.stats import linregress"
   ]
  },
  {
   "cell_type": "code",
   "execution_count": 10,
   "metadata": {},
   "outputs": [
    {
     "data": {
      "text/html": [
       "<div>\n",
       "<style scoped>\n",
       "    .dataframe tbody tr th:only-of-type {\n",
       "        vertical-align: middle;\n",
       "    }\n",
       "\n",
       "    .dataframe tbody tr th {\n",
       "        vertical-align: top;\n",
       "    }\n",
       "\n",
       "    .dataframe thead th {\n",
       "        text-align: right;\n",
       "    }\n",
       "</style>\n",
       "<table border=\"1\" class=\"dataframe\">\n",
       "  <thead>\n",
       "    <tr style=\"text-align: right;\">\n",
       "      <th></th>\n",
       "      <th>0</th>\n",
       "      <th>1</th>\n",
       "      <th>2</th>\n",
       "      <th>3</th>\n",
       "      <th>4</th>\n",
       "      <th>5</th>\n",
       "      <th>6</th>\n",
       "      <th>7</th>\n",
       "      <th>8</th>\n",
       "      <th>9</th>\n",
       "      <th>10</th>\n",
       "      <th>11</th>\n",
       "      <th>12</th>\n",
       "      <th>13</th>\n",
       "    </tr>\n",
       "  </thead>\n",
       "  <tbody>\n",
       "    <tr>\n",
       "      <th>lambda</th>\n",
       "      <td>440.000</td>\n",
       "      <td>460.000</td>\n",
       "      <td>480.000</td>\n",
       "      <td>500.000</td>\n",
       "      <td>520.000</td>\n",
       "      <td>540.000</td>\n",
       "      <td>560.000</td>\n",
       "      <td>580.000</td>\n",
       "      <td>600.0</td>\n",
       "      <td>620.00</td>\n",
       "      <td>640.000</td>\n",
       "      <td>660.000</td>\n",
       "      <td>680.000</td>\n",
       "      <td>700.000</td>\n",
       "    </tr>\n",
       "    <tr>\n",
       "      <th>A</th>\n",
       "      <td>0.317</td>\n",
       "      <td>0.297</td>\n",
       "      <td>0.278</td>\n",
       "      <td>0.265</td>\n",
       "      <td>0.249</td>\n",
       "      <td>0.235</td>\n",
       "      <td>0.223</td>\n",
       "      <td>0.211</td>\n",
       "      <td>0.2</td>\n",
       "      <td>0.19</td>\n",
       "      <td>0.182</td>\n",
       "      <td>0.173</td>\n",
       "      <td>0.164</td>\n",
       "      <td>0.155</td>\n",
       "    </tr>\n",
       "  </tbody>\n",
       "</table>\n",
       "</div>"
      ],
      "text/plain": [
       "             0        1        2        3        4        5        6   \\\n",
       "lambda  440.000  460.000  480.000  500.000  520.000  540.000  560.000   \n",
       "A         0.317    0.297    0.278    0.265    0.249    0.235    0.223   \n",
       "\n",
       "             7      8       9        10       11       12       13  \n",
       "lambda  580.000  600.0  620.00  640.000  660.000  680.000  700.000  \n",
       "A         0.211    0.2    0.19    0.182    0.173    0.164    0.155  "
      ]
     },
     "execution_count": 10,
     "metadata": {},
     "output_type": "execute_result"
    }
   ],
   "source": [
    "df = pd.read_csv(\"task7.csv\", sep=\";\")\n",
    "df.T"
   ]
  },
  {
   "cell_type": "code",
   "execution_count": 13,
   "metadata": {},
   "outputs": [
    {
     "data": {
      "text/plain": [
       "<matplotlib.collections.PathCollection at 0x7fb63be6a8d0>"
      ]
     },
     "execution_count": 13,
     "metadata": {},
     "output_type": "execute_result"
    },
    {
     "data": {
      "image/png": "[encoded data removed]",
      "text/plain": [
       "<Figure size 864x432 with 1 Axes>"
      ]
     },
     "metadata": {},
     "output_type": "display_data"
    }
   ],
   "source": [
    "plt.figure(figsize=(12, 6))\n",
    "plt.style.use(\"ggplot\")\n",
    "plt.title(\"LgA(lgLambda)\")\n",
    "plt.xlabel(\"Lg A\")\n",
    "plt.ylabel(\"Lg Lambda\")\n",
    "plt.plot(np.log10(df[\"lambda\"]), np.log10(df[\"A\"]))\n",
    "plt.scatter(np.log10(df[\"lambda\"]), np.log10(df[\"A\"]))"
   ]
  },
  {
   "cell_type": "code",
   "execution_count": 19,
   "metadata": {},
   "outputs": [
    {
     "name": "stdout",
     "output_type": "stream",
     "text": [
      "-0.6567410244303655 2.3181909450327067 -0.9994713930183605 3.1462800540581577e-19 0.006166762172319076\n"
     ]
    },
    {
     "data": {
      "text/plain": [
       "0.6567410244303655"
      ]
     },
     "execution_count": 19,
     "metadata": {},
     "output_type": "execute_result"
    }
   ],
   "source": [
    "slope, intercept, r_value, p_value, std_err = linregress(np.log10(df[\"A\"]), np.log10(df[\"lambda\"]) )\n",
    "print(slope, intercept, r_value, p_value, std_err)\n",
    "x = -slope\n",
    "x"
   ]
  },
  {
   "cell_type": "markdown",
   "metadata": {},
   "source": [
    "0.65 => 130нм"
   ]
  }
 ],
 "metadata": {
  "kernelspec": {
   "display_name": "Python 3",
   "language": "python",
   "name": "python3"
  },
  "language_info": {
   "codemirror_mode": {
    "name": "ipython",
    "version": 3
   },
   "file_extension": ".py",
   "mimetype": "text/x-python",
   "name": "python",
   "nbconvert_exporter": "python",
   "pygments_lexer": "ipython3",
   "version": "3.6.7"
  }
 },
 "nbformat": 4,
 "nbformat_minor": 2
}
