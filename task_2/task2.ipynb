{
 "cells": [
  {
   "cell_type": "code",
   "execution_count": 1,
   "metadata": {},
   "outputs": [],
   "source": [
    "import pandas as pd\n",
    "import numpy as np\n",
    "import matplotlib.pyplot as plt\n",
    "import scipy as sc\n",
    "from scipy.stats import linregress"
   ]
  },
  {
   "cell_type": "code",
   "execution_count": 4,
   "metadata": {},
   "outputs": [
    {
     "data": {
      "text/html": [
       "<div>\n",
       "<style scoped>\n",
       "    .dataframe tbody tr th:only-of-type {\n",
       "        vertical-align: middle;\n",
       "    }\n",
       "\n",
       "    .dataframe tbody tr th {\n",
       "        vertical-align: top;\n",
       "    }\n",
       "\n",
       "    .dataframe thead th {\n",
       "        text-align: right;\n",
       "    }\n",
       "</style>\n",
       "<table border=\"1\" class=\"dataframe\">\n",
       "  <thead>\n",
       "    <tr style=\"text-align: right;\">\n",
       "      <th></th>\n",
       "      <th>Name</th>\n",
       "      <th>VПАВ</th>\n",
       "      <th>Vвода</th>\n",
       "      <th>C</th>\n",
       "      <th>sigma</th>\n",
       "      <th>h</th>\n",
       "      <th>h1</th>\n",
       "      <th>h2</th>\n",
       "      <th>h3</th>\n",
       "      <th>h4</th>\n",
       "      <th>h6</th>\n",
       "      <th>h7</th>\n",
       "      <th>h8</th>\n",
       "      <th>h9</th>\n",
       "      <th>hA</th>\n",
       "      <th>hB</th>\n",
       "      <th>hC</th>\n",
       "      <th>hD</th>\n",
       "    </tr>\n",
       "  </thead>\n",
       "  <tbody>\n",
       "    <tr>\n",
       "      <th>1</th>\n",
       "      <td>1</td>\n",
       "      <td>1.0</td>\n",
       "      <td>29.0</td>\n",
       "      <td>0.006667</td>\n",
       "      <td>68.070860</td>\n",
       "      <td>3632.083333</td>\n",
       "      <td>3637</td>\n",
       "      <td>3612</td>\n",
       "      <td>3654</td>\n",
       "      <td>3616</td>\n",
       "      <td>3627</td>\n",
       "      <td>3659</td>\n",
       "      <td>3612</td>\n",
       "      <td>3656</td>\n",
       "      <td>3629</td>\n",
       "      <td>3625</td>\n",
       "      <td>3643</td>\n",
       "      <td>3615</td>\n",
       "    </tr>\n",
       "    <tr>\n",
       "      <th>2</th>\n",
       "      <td>2</td>\n",
       "      <td>1.5</td>\n",
       "      <td>28.5</td>\n",
       "      <td>0.010000</td>\n",
       "      <td>66.132672</td>\n",
       "      <td>3528.666667</td>\n",
       "      <td>3532</td>\n",
       "      <td>3538</td>\n",
       "      <td>3537</td>\n",
       "      <td>3511</td>\n",
       "      <td>3509</td>\n",
       "      <td>3548</td>\n",
       "      <td>3537</td>\n",
       "      <td>3542</td>\n",
       "      <td>3522</td>\n",
       "      <td>3538</td>\n",
       "      <td>3510</td>\n",
       "      <td>3520</td>\n",
       "    </tr>\n",
       "    <tr>\n",
       "      <th>3</th>\n",
       "      <td>3</td>\n",
       "      <td>2.0</td>\n",
       "      <td>28.0</td>\n",
       "      <td>0.013333</td>\n",
       "      <td>63.802473</td>\n",
       "      <td>3404.333333</td>\n",
       "      <td>3405</td>\n",
       "      <td>3396</td>\n",
       "      <td>3402</td>\n",
       "      <td>3419</td>\n",
       "      <td>3378</td>\n",
       "      <td>3397</td>\n",
       "      <td>3412</td>\n",
       "      <td>3432</td>\n",
       "      <td>3397</td>\n",
       "      <td>3431</td>\n",
       "      <td>3400</td>\n",
       "      <td>3383</td>\n",
       "    </tr>\n",
       "    <tr>\n",
       "      <th>4</th>\n",
       "      <td>4</td>\n",
       "      <td>2.5</td>\n",
       "      <td>27.5</td>\n",
       "      <td>0.016667</td>\n",
       "      <td>61.430106</td>\n",
       "      <td>3277.750000</td>\n",
       "      <td>3270</td>\n",
       "      <td>3271</td>\n",
       "      <td>3276</td>\n",
       "      <td>3277</td>\n",
       "      <td>3269</td>\n",
       "      <td>3274</td>\n",
       "      <td>3270</td>\n",
       "      <td>3274</td>\n",
       "      <td>3276</td>\n",
       "      <td>3312</td>\n",
       "      <td>3294</td>\n",
       "      <td>3270</td>\n",
       "    </tr>\n",
       "    <tr>\n",
       "      <th>5</th>\n",
       "      <td>5</td>\n",
       "      <td>3.5</td>\n",
       "      <td>26.5</td>\n",
       "      <td>0.023333</td>\n",
       "      <td>58.573582</td>\n",
       "      <td>3125.333333</td>\n",
       "      <td>3119</td>\n",
       "      <td>3154</td>\n",
       "      <td>3152</td>\n",
       "      <td>3104</td>\n",
       "      <td>3102</td>\n",
       "      <td>3106</td>\n",
       "      <td>3104</td>\n",
       "      <td>3139</td>\n",
       "      <td>3147</td>\n",
       "      <td>3127</td>\n",
       "      <td>3108</td>\n",
       "      <td>3142</td>\n",
       "    </tr>\n",
       "    <tr>\n",
       "      <th>6</th>\n",
       "      <td>6</td>\n",
       "      <td>5.0</td>\n",
       "      <td>25.0</td>\n",
       "      <td>0.033333</td>\n",
       "      <td>54.533216</td>\n",
       "      <td>2909.750000</td>\n",
       "      <td>2907</td>\n",
       "      <td>2910</td>\n",
       "      <td>2905</td>\n",
       "      <td>2904</td>\n",
       "      <td>2924</td>\n",
       "      <td>2900</td>\n",
       "      <td>2916</td>\n",
       "      <td>2929</td>\n",
       "      <td>2904</td>\n",
       "      <td>2890</td>\n",
       "      <td>2905</td>\n",
       "      <td>2923</td>\n",
       "    </tr>\n",
       "    <tr>\n",
       "      <th>7</th>\n",
       "      <td>7</td>\n",
       "      <td>7.5</td>\n",
       "      <td>22.5</td>\n",
       "      <td>0.050000</td>\n",
       "      <td>49.230920</td>\n",
       "      <td>2626.833333</td>\n",
       "      <td>2631</td>\n",
       "      <td>2634</td>\n",
       "      <td>2628</td>\n",
       "      <td>2630</td>\n",
       "      <td>2633</td>\n",
       "      <td>2634</td>\n",
       "      <td>2624</td>\n",
       "      <td>2622</td>\n",
       "      <td>2605</td>\n",
       "      <td>2609</td>\n",
       "      <td>2629</td>\n",
       "      <td>2643</td>\n",
       "    </tr>\n",
       "    <tr>\n",
       "      <th>8</th>\n",
       "      <td>8</td>\n",
       "      <td>10.0</td>\n",
       "      <td>20.0</td>\n",
       "      <td>0.066667</td>\n",
       "      <td>44.451826</td>\n",
       "      <td>2371.833333</td>\n",
       "      <td>2384</td>\n",
       "      <td>2383</td>\n",
       "      <td>2393</td>\n",
       "      <td>2337</td>\n",
       "      <td>2359</td>\n",
       "      <td>2395</td>\n",
       "      <td>2406</td>\n",
       "      <td>2369</td>\n",
       "      <td>2360</td>\n",
       "      <td>2374</td>\n",
       "      <td>2343</td>\n",
       "      <td>2359</td>\n",
       "    </tr>\n",
       "    <tr>\n",
       "      <th>9</th>\n",
       "      <td>9</td>\n",
       "      <td>15.0</td>\n",
       "      <td>15.0</td>\n",
       "      <td>0.100000</td>\n",
       "      <td>38.442036</td>\n",
       "      <td>2051.166667</td>\n",
       "      <td>2064</td>\n",
       "      <td>2036</td>\n",
       "      <td>2084</td>\n",
       "      <td>2030</td>\n",
       "      <td>2069</td>\n",
       "      <td>2100</td>\n",
       "      <td>2055</td>\n",
       "      <td>2006</td>\n",
       "      <td>2024</td>\n",
       "      <td>2044</td>\n",
       "      <td>2045</td>\n",
       "      <td>2057</td>\n",
       "    </tr>\n",
       "    <tr>\n",
       "      <th>10</th>\n",
       "      <td>10</td>\n",
       "      <td>20.0</td>\n",
       "      <td>10.0</td>\n",
       "      <td>0.133333</td>\n",
       "      <td>34.560974</td>\n",
       "      <td>1844.083333</td>\n",
       "      <td>1844</td>\n",
       "      <td>1836</td>\n",
       "      <td>1850</td>\n",
       "      <td>1876</td>\n",
       "      <td>1831</td>\n",
       "      <td>1849</td>\n",
       "      <td>1832</td>\n",
       "      <td>1807</td>\n",
       "      <td>1803</td>\n",
       "      <td>1840</td>\n",
       "      <td>1829</td>\n",
       "      <td>1932</td>\n",
       "    </tr>\n",
       "    <tr>\n",
       "      <th>11</th>\n",
       "      <td>11</td>\n",
       "      <td>30.0</td>\n",
       "      <td>0.0</td>\n",
       "      <td>0.200000</td>\n",
       "      <td>28.874477</td>\n",
       "      <td>1540.666667</td>\n",
       "      <td>1531</td>\n",
       "      <td>1527</td>\n",
       "      <td>1523</td>\n",
       "      <td>1546</td>\n",
       "      <td>1542</td>\n",
       "      <td>1561</td>\n",
       "      <td>1522</td>\n",
       "      <td>1556</td>\n",
       "      <td>1541</td>\n",
       "      <td>1565</td>\n",
       "      <td>1538</td>\n",
       "      <td>1536</td>\n",
       "    </tr>\n",
       "    <tr>\n",
       "      <th>12</th>\n",
       "      <td>6У</td>\n",
       "      <td>5.0</td>\n",
       "      <td>25.0</td>\n",
       "      <td>0.033333</td>\n",
       "      <td>61.003735</td>\n",
       "      <td>3255.000000</td>\n",
       "      <td>3238</td>\n",
       "      <td>3231</td>\n",
       "      <td>3268</td>\n",
       "      <td>3233</td>\n",
       "      <td>3246</td>\n",
       "      <td>3264</td>\n",
       "      <td>3273</td>\n",
       "      <td>3282</td>\n",
       "      <td>3258</td>\n",
       "      <td>3238</td>\n",
       "      <td>3289</td>\n",
       "      <td>3240</td>\n",
       "    </tr>\n",
       "    <tr>\n",
       "      <th>13</th>\n",
       "      <td>7У</td>\n",
       "      <td>7.5</td>\n",
       "      <td>22.5</td>\n",
       "      <td>0.050000</td>\n",
       "      <td>53.026084</td>\n",
       "      <td>2829.333333</td>\n",
       "      <td>2800</td>\n",
       "      <td>2823</td>\n",
       "      <td>2833</td>\n",
       "      <td>2836</td>\n",
       "      <td>2830</td>\n",
       "      <td>2829</td>\n",
       "      <td>2825</td>\n",
       "      <td>2830</td>\n",
       "      <td>2834</td>\n",
       "      <td>2837</td>\n",
       "      <td>2846</td>\n",
       "      <td>2829</td>\n",
       "    </tr>\n",
       "    <tr>\n",
       "      <th>14</th>\n",
       "      <td>8У</td>\n",
       "      <td>10.0</td>\n",
       "      <td>20.0</td>\n",
       "      <td>0.066667</td>\n",
       "      <td>52.582534</td>\n",
       "      <td>2805.666667</td>\n",
       "      <td>2774</td>\n",
       "      <td>2805</td>\n",
       "      <td>2776</td>\n",
       "      <td>2802</td>\n",
       "      <td>2805</td>\n",
       "      <td>2779</td>\n",
       "      <td>2805</td>\n",
       "      <td>2821</td>\n",
       "      <td>2823</td>\n",
       "      <td>2836</td>\n",
       "      <td>2820</td>\n",
       "      <td>2822</td>\n",
       "    </tr>\n",
       "    <tr>\n",
       "      <th>15</th>\n",
       "      <td>9У</td>\n",
       "      <td>15.0</td>\n",
       "      <td>15.0</td>\n",
       "      <td>0.100000</td>\n",
       "      <td>47.070957</td>\n",
       "      <td>2511.583333</td>\n",
       "      <td>2520</td>\n",
       "      <td>2516</td>\n",
       "      <td>2521</td>\n",
       "      <td>2536</td>\n",
       "      <td>2522</td>\n",
       "      <td>2477</td>\n",
       "      <td>2467</td>\n",
       "      <td>2514</td>\n",
       "      <td>2524</td>\n",
       "      <td>2522</td>\n",
       "      <td>2500</td>\n",
       "      <td>2520</td>\n",
       "    </tr>\n",
       "    <tr>\n",
       "      <th>16</th>\n",
       "      <td>10У</td>\n",
       "      <td>20.0</td>\n",
       "      <td>10.0</td>\n",
       "      <td>0.133333</td>\n",
       "      <td>42.265312</td>\n",
       "      <td>2255.166667</td>\n",
       "      <td>2238</td>\n",
       "      <td>2291</td>\n",
       "      <td>2242</td>\n",
       "      <td>2230</td>\n",
       "      <td>2279</td>\n",
       "      <td>2270</td>\n",
       "      <td>2281</td>\n",
       "      <td>2236</td>\n",
       "      <td>2266</td>\n",
       "      <td>2230</td>\n",
       "      <td>2253</td>\n",
       "      <td>2246</td>\n",
       "    </tr>\n",
       "    <tr>\n",
       "      <th>17</th>\n",
       "      <td>11У</td>\n",
       "      <td>30.0</td>\n",
       "      <td>0.0</td>\n",
       "      <td>0.200000</td>\n",
       "      <td>42.195031</td>\n",
       "      <td>2251.416667</td>\n",
       "      <td>2242</td>\n",
       "      <td>2240</td>\n",
       "      <td>2233</td>\n",
       "      <td>2246</td>\n",
       "      <td>2244</td>\n",
       "      <td>2239</td>\n",
       "      <td>2245</td>\n",
       "      <td>2248</td>\n",
       "      <td>2257</td>\n",
       "      <td>2264</td>\n",
       "      <td>2276</td>\n",
       "      <td>2283</td>\n",
       "    </tr>\n",
       "  </tbody>\n",
       "</table>\n",
       "</div>"
      ],
      "text/plain": [
       "   Name  VПАВ  Vвода         C      sigma            h    h1    h2    h3  \\\n",
       "1     1   1.0   29.0  0.006667  68.070860  3632.083333  3637  3612  3654   \n",
       "2     2   1.5   28.5  0.010000  66.132672  3528.666667  3532  3538  3537   \n",
       "3     3   2.0   28.0  0.013333  63.802473  3404.333333  3405  3396  3402   \n",
       "4     4   2.5   27.5  0.016667  61.430106  3277.750000  3270  3271  3276   \n",
       "5     5   3.5   26.5  0.023333  58.573582  3125.333333  3119  3154  3152   \n",
       "6     6   5.0   25.0  0.033333  54.533216  2909.750000  2907  2910  2905   \n",
       "7     7   7.5   22.5  0.050000  49.230920  2626.833333  2631  2634  2628   \n",
       "8     8  10.0   20.0  0.066667  44.451826  2371.833333  2384  2383  2393   \n",
       "9     9  15.0   15.0  0.100000  38.442036  2051.166667  2064  2036  2084   \n",
       "10   10  20.0   10.0  0.133333  34.560974  1844.083333  1844  1836  1850   \n",
       "11   11  30.0    0.0  0.200000  28.874477  1540.666667  1531  1527  1523   \n",
       "12   6У   5.0   25.0  0.033333  61.003735  3255.000000  3238  3231  3268   \n",
       "13   7У   7.5   22.5  0.050000  53.026084  2829.333333  2800  2823  2833   \n",
       "14   8У  10.0   20.0  0.066667  52.582534  2805.666667  2774  2805  2776   \n",
       "15   9У  15.0   15.0  0.100000  47.070957  2511.583333  2520  2516  2521   \n",
       "16  10У  20.0   10.0  0.133333  42.265312  2255.166667  2238  2291  2242   \n",
       "17  11У  30.0    0.0  0.200000  42.195031  2251.416667  2242  2240  2233   \n",
       "\n",
       "      h4    h6    h7    h8    h9    hA    hB    hC    hD  \n",
       "1   3616  3627  3659  3612  3656  3629  3625  3643  3615  \n",
       "2   3511  3509  3548  3537  3542  3522  3538  3510  3520  \n",
       "3   3419  3378  3397  3412  3432  3397  3431  3400  3383  \n",
       "4   3277  3269  3274  3270  3274  3276  3312  3294  3270  \n",
       "5   3104  3102  3106  3104  3139  3147  3127  3108  3142  \n",
       "6   2904  2924  2900  2916  2929  2904  2890  2905  2923  \n",
       "7   2630  2633  2634  2624  2622  2605  2609  2629  2643  \n",
       "8   2337  2359  2395  2406  2369  2360  2374  2343  2359  \n",
       "9   2030  2069  2100  2055  2006  2024  2044  2045  2057  \n",
       "10  1876  1831  1849  1832  1807  1803  1840  1829  1932  \n",
       "11  1546  1542  1561  1522  1556  1541  1565  1538  1536  \n",
       "12  3233  3246  3264  3273  3282  3258  3238  3289  3240  \n",
       "13  2836  2830  2829  2825  2830  2834  2837  2846  2829  \n",
       "14  2802  2805  2779  2805  2821  2823  2836  2820  2822  \n",
       "15  2536  2522  2477  2467  2514  2524  2522  2500  2520  \n",
       "16  2230  2279  2270  2281  2236  2266  2230  2253  2246  \n",
       "17  2246  2244  2239  2245  2248  2257  2264  2276  2283  "
      ]
     },
     "execution_count": 4,
     "metadata": {},
     "output_type": "execute_result"
    }
   ],
   "source": [
    "df = pd.read_csv(\"task2.csv\", sep=\";\")\n",
    "df = df[df.index > 0]\n",
    "df"
   ]
  },
  {
   "cell_type": "code",
   "execution_count": 32,
   "metadata": {},
   "outputs": [
    {
     "data": {
      "text/plain": [
       "(-14.589271886782937,\n",
       " 5.175333047657645,\n",
       " -0.9993560176529759,\n",
       " 1.9615656380635667e-05,\n",
       " 0.30243692027339886)"
      ]
     },
     "execution_count": 32,
     "metadata": {},
     "output_type": "execute_result"
    },
    {
     "data": {
      "image/png": "[encoded data removed]",
      "text/plain": [
       "<Figure size 864x432 with 1 Axes>"
      ]
     },
     "metadata": {},
     "output_type": "display_data"
    }
   ],
   "source": [
    "plt.figure(figsize=(12, 6))\n",
    "plt.style.use(\"ggplot\")\n",
    "tmp = df[df.index < 12]\n",
    "plt.scatter(np.log(tmp[\"C\"]), tmp[\"sigma\"])\n",
    "\n",
    "\n",
    "tmp = df[(df.index < 12) & (df.index > 6)]\n",
    "plt.plot(np.log(tmp[\"C\"]), tmp[\"sigma\"])\n",
    "plt.title(\"Заивисимость поверхностного натяжения от логарифма концентрации\")\n",
    "plt.xlabel(\"ln C\")\n",
    "plt.ylabel(\"Sigma\")\n",
    "slope, intercept, r_value, p_value, std_err = linregress(np.log(tmp[\"C\"]), tmp[\"sigma\"])\n",
    "slope, intercept, r_value, p_value, std_err"
   ]
  },
  {
   "cell_type": "code",
   "execution_count": 11,
   "metadata": {},
   "outputs": [
    {
     "data": {
      "text/plain": [
       "(5.175333047657645, 14.589271886782937)"
      ]
     },
     "execution_count": 11,
     "metadata": {},
     "output_type": "execute_result"
    }
   ],
   "source": [
    "C1 = intercept\n",
    "b = -slope\n",
    "C1, b"
   ]
  },
  {
   "cell_type": "code",
   "execution_count": 12,
   "metadata": {},
   "outputs": [],
   "source": [
    "sigma0 = 72.75"
   ]
  },
  {
   "cell_type": "code",
   "execution_count": 13,
   "metadata": {},
   "outputs": [
    {
     "data": {
      "text/plain": [
       "102.69930063530747"
      ]
     },
     "execution_count": 13,
     "metadata": {},
     "output_type": "execute_result"
    }
   ],
   "source": [
    "A = np.exp((sigma0 - C1) / b)\n",
    "A"
   ]
  },
  {
   "cell_type": "code",
   "execution_count": 25,
   "metadata": {},
   "outputs": [
    {
     "data": {
      "text/plain": [
       "<matplotlib.legend.Legend at 0x7f3ccad6bf28>"
      ]
     },
     "execution_count": 25,
     "metadata": {},
     "output_type": "execute_result"
    },
    {
     "data": {
      "image/png": "[encoded data removed]",
      "text/plain": [
       "<Figure size 864x432 with 1 Axes>"
      ]
     },
     "metadata": {},
     "output_type": "display_data"
    }
   ],
   "source": [
    "plt.figure(figsize=(12, 6))\n",
    "df[\"sigmaR\"] = sigma0 -b*np.log(1 + A * df[\"C\"])\n",
    "tmp = df[df.index < 12]\n",
    "plt.plot(tmp[\"C\"], tmp[\"sigmaR\"], color=\"orange\", label=\"calculated\")\n",
    "plt.scatter(tmp[\"C\"], tmp[\"sigma\"], color=\"blue\", label=\"real\")\n",
    "plt.xlabel(\"C\")\n",
    "plt.ylabel(\"Sigma\")\n",
    "plt.title(\"Зависимость поверхностного натяжения от концентрации\")\n",
    "plt.legend()"
   ]
  },
  {
   "cell_type": "code",
   "execution_count": 29,
   "metadata": {},
   "outputs": [
    {
     "data": {
      "text/plain": [
       "<matplotlib.collections.PathCollection at 0x7f3cca9c3550>"
      ]
     },
     "execution_count": 29,
     "metadata": {},
     "output_type": "execute_result"
    },
    {
     "data": {
      "image/png": "[encoded data removed]",
      "text/plain": [
       "<Figure size 864x432 with 1 Axes>"
      ]
     },
     "metadata": {},
     "output_type": "display_data"
    }
   ],
   "source": [
    "R = 8.314\n",
    "T = 293.15\n",
    "plt.figure(figsize=(12, 6))\n",
    "df[\"Г\"] = b / (R * T) * A * df[\"C\"] / (1 + A * df[\"C\"])\n",
    "tmp = df[df.index < 12]\n",
    "plt.title(\"Изотерма сорбции ПАВ на границе раствор-воздух\")\n",
    "plt.plot(tmp[\"C\"], tmp[\"Г\"], color=\"orange\")\n",
    "plt.scatter(tmp[\"C\"], tmp[\"Г\"], color=\"blue\")\n"
   ]
  },
  {
   "cell_type": "code",
   "execution_count": 35,
   "metadata": {},
   "outputs": [
    {
     "data": {
      "text/plain": [
       "(167.05762418534482, 1.626667593176494, 1.0, 5.8534851285390365e-90, 0.0)"
      ]
     },
     "execution_count": 35,
     "metadata": {},
     "output_type": "execute_result"
    },
    {
     "data": {
      "image/png": "[encoded data removed]",
      "text/plain": [
       "<Figure size 864x432 with 1 Axes>"
      ]
     },
     "metadata": {},
     "output_type": "display_data"
    }
   ],
   "source": [
    "plt.figure(figsize=(12, 6))\n",
    "plt.title(\"Линейная форма уравнения Ленгмюра для системы без угля\")\n",
    "tmp = df[df.index < 12]\n",
    "plt.plot(tmp[\"C\"], tmp[\"C\"]/tmp[\"Г\"], color=\"orange\")\n",
    "plt.scatter(tmp[\"C\"], tmp[\"C\"]/tmp[\"Г\"], color=\"blue\")\n",
    "slope, intercept, r_value, p_value, std_err = linregress(tmp[\"C\"], tmp[\"C\"]/tmp[\"Г\"])\n",
    "slope, intercept, r_value, p_value, std_err"
   ]
  },
  {
   "cell_type": "code",
   "execution_count": 36,
   "metadata": {},
   "outputs": [
    {
     "data": {
      "text/plain": [
       "0.0059859584671845545"
      ]
     },
     "execution_count": 36,
     "metadata": {},
     "output_type": "execute_result"
    }
   ],
   "source": [
    "Гm = 1/slope\n",
    "Гm"
   ]
  },
  {
   "cell_type": "code",
   "execution_count": 37,
   "metadata": {},
   "outputs": [
    {
     "data": {
      "text/plain": [
       "2.7750435911186844e-22"
      ]
     },
     "execution_count": 37,
     "metadata": {},
     "output_type": "execute_result"
    }
   ],
   "source": [
    "s0 = 1 / (Гm * 6.02e23)\n",
    "s0"
   ]
  },
  {
   "cell_type": "code",
   "execution_count": 38,
   "metadata": {},
   "outputs": [
    {
     "data": {
      "text/plain": [
       "6.471306451010328e-07"
      ]
     },
     "execution_count": 38,
     "metadata": {},
     "output_type": "execute_result"
    }
   ],
   "source": [
    "delta0 = Гm * (12*5+11+17) / 1000 / 814\n",
    "delta0"
   ]
  },
  {
   "cell_type": "code",
   "execution_count": null,
   "metadata": {},
   "outputs": [],
   "source": []
  },
  {
   "cell_type": "code",
   "execution_count": 43,
   "metadata": {},
   "outputs": [],
   "source": [
    "def sigma(C):\n",
    "    return sigma0 -b*np.log(1 + A * C)"
   ]
  },
  {
   "cell_type": "code",
   "execution_count": 44,
   "metadata": {},
   "outputs": [],
   "source": [
    "def C(sigma):\n",
    "    return (np.exp((sigma0 - sigma)/b) - 1) / A"
   ]
  },
  {
   "cell_type": "code",
   "execution_count": null,
   "metadata": {},
   "outputs": [],
   "source": []
  },
  {
   "cell_type": "code",
   "execution_count": 58,
   "metadata": {},
   "outputs": [],
   "source": [
    "df[\"C*\"] = C(df[\"sigma\"])\n",
    "df[\"Г*\"] = (df[\"C\"] - df[\"C*\"]) * 30 / 1e6 / 1e-3"
   ]
  },
  {
   "cell_type": "code",
   "execution_count": null,
   "metadata": {},
   "outputs": [],
   "source": []
  },
  {
   "cell_type": "code",
   "execution_count": 64,
   "metadata": {},
   "outputs": [
    {
     "data": {
      "text/plain": [
       "(286.3071608895604,\n",
       " 16.196724716912136,\n",
       " 0.9923799917434495,\n",
       " 0.007620008256550514,\n",
       " 25.13639659275105)"
      ]
     },
     "execution_count": 64,
     "metadata": {},
     "output_type": "execute_result"
    },
    {
     "data": {
      "image/png": "[encoded data removed]",
      "text/plain": [
       "<Figure size 864x432 with 1 Axes>"
      ]
     },
     "metadata": {},
     "output_type": "display_data"
    }
   ],
   "source": [
    "plt.figure(figsize=(12, 6))\n",
    "plt.title(\"Линейная форма уравнения Ленгмюра для системы угля\")\n",
    "tmp = df[df.index > 11]\n",
    "plt.scatter(tmp[\"C*\"], tmp[\"C*\"]/tmp[\"Г*\"], color=\"blue\")\n",
    "tmp = df.loc[[12, 14, 15, 16]]\n",
    "plt.plot(tmp[\"C*\"], tmp[\"C*\"]/tmp[\"Г*\"], color=\"orange\")\n",
    "slope, intercept, r_value, p_value, std_err = linregress(tmp[\"C*\"], tmp[\"C*\"]/tmp[\"Г*\"])\n",
    "slope, intercept, r_value, p_value, std_err"
   ]
  },
  {
   "cell_type": "code",
   "execution_count": 66,
   "metadata": {},
   "outputs": [
    {
     "data": {
      "text/plain": [
       "0.0034927523184994248"
      ]
     },
     "execution_count": 66,
     "metadata": {},
     "output_type": "execute_result"
    }
   ],
   "source": [
    "Гу = 1 / slope\n",
    "Гу"
   ]
  },
  {
   "cell_type": "code",
   "execution_count": 68,
   "metadata": {},
   "outputs": [
    {
     "data": {
      "text/plain": [
       "0.5834909041963686"
      ]
     },
     "execution_count": 68,
     "metadata": {},
     "output_type": "execute_result"
    }
   ],
   "source": [
    "Sуд = Гу * 6.02e23 * s0\n",
    "Sуд"
   ]
  }
 ],
 "metadata": {
  "kernelspec": {
   "display_name": "Python 3",
   "language": "python",
   "name": "python3"
  },
  "language_info": {
   "codemirror_mode": {
    "name": "ipython",
    "version": 3
   },
   "file_extension": ".py",
   "mimetype": "text/x-python",
   "name": "python",
   "nbconvert_exporter": "python",
   "pygments_lexer": "ipython3",
   "version": "3.6.7"
  }
 },
 "nbformat": 4,
 "nbformat_minor": 2
}
